{
  "nbformat": 4,
  "nbformat_minor": 0,
  "metadata": {
    "colab": {
      "provenance": []
    },
    "kernelspec": {
      "name": "python3",
      "display_name": "Python 3"
    },
    "language_info": {
      "name": "python"
    }
  },
  "cells": [
    {
      "cell_type": "code",
      "execution_count": 6,
      "metadata": {
        "colab": {
          "base_uri": "https://localhost:8080/",
          "height": 352
        },
        "id": "h0sxohOsOtcv",
        "outputId": "6700b1c7-a585-43e7-9dcf-7d23b0082409"
      },
      "outputs": [
        {
          "output_type": "stream",
          "name": "stdout",
          "text": [
            "[8,3,11,6,3,4,12,9,6,1]\n",
            "[3,10,3,6,8,12,1,4,9,14]\n",
            "-1.082431307243963 13.819317235636968\n",
            "y predicted =  [ 5.15986678 10.57202331  1.91257286  7.32472939 10.57202331  9.48959201\n",
            "  0.83014155  4.07743547  7.32472939 12.73688593]\n"
          ]
        },
        {
          "output_type": "display_data",
          "data": {
            "text/plain": [
              "<Figure size 432x288 with 1 Axes>"
            ],
            "image/png": "[encoded data removed]"
          },
          "metadata": {
            "needs_background": "light"
          }
        }
      ],
      "source": [
        "import numpy as np\n",
        "import matplotlib.pyplot as plt\n",
        "x=np.array(eval(input()))\n",
        "y=np.array(eval(input()))\n",
        "\n",
        "x_mean=np.mean(x)\n",
        "y_mean=np.mean(y)\n",
        "\n",
        "num,denom=0,0\n",
        "\n",
        "for i in range(len(x)):\n",
        "  num += ((x[i]-x_mean)*(y[i]-y_mean))\n",
        "  denom += (x[i]-x_mean) ** 2\n",
        "\n",
        "m=num/denom\n",
        "b=y_mean - m * x_mean\n",
        "\n",
        "\n",
        "print(m,b)\n",
        "\n",
        "y_predicted = m*x + b\n",
        "print(\"y predicted = \",y_predicted)\n",
        "\n",
        "\n",
        "plt.scatter(x,y,color='red')\n",
        "plt.plot(x,y_predicted, color='green')\n",
        "plt.show()\n"
      ]
    }
  ]
}