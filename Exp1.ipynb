{
 "cells": [
  {
   "cell_type": "code",
   "execution_count": null,
   "metadata": {},
   "outputs": [],
   "source": [
    "import numpy as np\n",
    "import matplotlib.pyplot as plt\n",
    "x=np.array(eval(input()))\n",
    "y=np.array(eval(input()))\n",
    "\n",
    "x_mean=np.mean(x)\n",
    "y_mean=np.mean(y)\n",
    "\n",
    "num,denom=0,0\n",
    "\n",
    "for i in range(len(x)):\n",
    "  num += ((x[i]-x_mean)*(y[i]-y_mean))\n",
    "  denom += (x[i]-x_mean) ** 2\n",
    "\n",
    "m=num/denom\n",
    "b=y_mean - m * x_mean\n",
    "\n",
    "\n",
    "print(m,b)\n",
    "\n",
    "y_predicted = m*x + b\n",
    "print(\"y predicted = \",y_predicted)\n",
    "\n",
    "\n",
    "plt.scatter(x,y,color='red')\n",
    "plt.plot(x,y_predicted, color='green')\n",
    "plt.show()\n"
   ]
  }
 ],
 "metadata": {
  "language_info": {
   "name": "python"
  },
  "orig_nbformat": 4
 },
 "nbformat": 4,
 "nbformat_minor": 2
}
